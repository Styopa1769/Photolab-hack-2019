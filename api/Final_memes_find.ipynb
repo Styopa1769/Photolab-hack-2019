{
 "cells": [
  {
   "cell_type": "code",
   "execution_count": 7,
   "metadata": {},
   "outputs": [],
   "source": [
    "# standart modules\n",
    "import pickle\n",
    "import pandas as pd\n",
    "import numpy as np\n",
    "import matplotlib.pyplot as plt\n",
    "\n",
    "# ML\n",
    "from sklearn.linear_model import LogisticRegression\n",
    "import keras\n",
    "from keras.preprocessing.sequence import pad_sequences\n",
    "from keras.models import load_model\n",
    "from sklearn.metrics import classification_report, confusion_matrix\n",
    "%config InlineBackend.figure_format = 'retina'\n",
    "import itertools, pickle\n",
    "MAX_SEQUENCE_LENGTH = 30 # max length of text (words) including padding\n",
    "\n",
    "emotions = [\"neutral\", \"happy\", \"sad\", \"hate\", \"anger\"]\n",
    "with open('txt_model/tokenizer.pickle', 'rb') as handle:\n",
    "        tokenizer = pickle.load(handle)\n",
    "\n",
    "# text processing\n",
    "import words\n",
    "from scipy.spatial.distance import cosine"
   ]
  },
  {
   "cell_type": "code",
   "execution_count": 8,
   "metadata": {},
   "outputs": [],
   "source": [
    "def load_text_emotion_model():\n",
    "    json_file = open('txt_model/model_200_epochs.json', 'r')\n",
    "\n",
    "    loaded_model_json = json_file.read()\n",
    "    json_file.close()\n",
    "    loaded_model = keras.models.model_from_json(loaded_model_json)\n",
    "\n",
    "    # load weights into new model\n",
    "    loaded_model.load_weights(\"txt_model/model_200_epochs.h5\")\n",
    "    print(\"Text emotion model is loaded\")\n",
    "    \n",
    "    return loaded_model"
   ]
  },
  {
   "cell_type": "code",
   "execution_count": 9,
   "metadata": {},
   "outputs": [],
   "source": [
    "def get_emotion_text(text, model):\n",
    "    sequences_test = tokenizer.texts_to_sequences([text])\n",
    "    data_int_t = pad_sequences(sequences_test, padding='pre', maxlen=(MAX_SEQUENCE_LENGTH-5))\n",
    "    data_test = pad_sequences(data_int_t, padding='post', maxlen=(MAX_SEQUENCE_LENGTH))\n",
    "    proba = model.predict(data_test)\n",
    "    return proba"
   ]
  },
  {
   "cell_type": "code",
   "execution_count": 10,
   "metadata": {},
   "outputs": [],
   "source": [
    "def get_emotion_euristic(df, j, text, text_emotion_model):\n",
    "    emotion_proba = get_emotion_text(text, text_emotion_model)\n",
    "    m = df.shape[0]\n",
    "    emotion_index = df.loc[j]['emotion']\n",
    "    emotion_euristic = emotion_proba[0, int(emotion_index)]\n",
    "    return emotion_euristic"
   ]
  },
  {
   "cell_type": "code",
   "execution_count": 11,
   "metadata": {},
   "outputs": [],
   "source": [
    "def get_sense_euristic(df, j, text, words_dict):\n",
    "    m = df.shape[0]\n",
    "    k = len(words_dict)\n",
    "    senses_matrix = np.zeros((m, k))\n",
    "    text_vector = words.text_to_vector(text, words_dict)\n",
    "    mem_vector = words.text_to_vector(df.loc[j]['data'], words_dict)\n",
    "    if (np.linalg.norm(text_vector) != 0) and (np.linalg.norm(mem_vector) != 0):\n",
    "        sense_euristic = 1 - cosine(mem_vector, text_vector)\n",
    "    else:\n",
    "        sense_euristic = 0.0\n",
    "    return sense_euristic"
   ]
  },
  {
   "cell_type": "code",
   "execution_count": 36,
   "metadata": {},
   "outputs": [],
   "source": [
    "def load_memes_model():\n",
    "    text_emotion_model = load_text_emotion_model()\n",
    "    words_dict = words.parse_text()\n",
    "    m = 200\n",
    "    regressions = [None] * m\n",
    "    for j in range(m):\n",
    "        filename = 'models/' + str(j) + '_finalized_model.sav'\n",
    "        regressions[j] = pickle.load(open(filename, 'rb')) \n",
    "    return regressions, words_dict, text_emotion_model"
   ]
  },
  {
   "cell_type": "code",
   "execution_count": 37,
   "metadata": {},
   "outputs": [],
   "source": [
    "def predict_memes(text, text_emotion_model, words_dict, regressions):\n",
    "    m = 200\n",
    "    memes_df = pd.read_csv(\"memes_df.csv\")\n",
    "    proba_array = np.zeros(m)\n",
    "    for j in range(m):\n",
    "        emotion_euristics = get_emotion_euristic(memes_df, j, text, text_emotion_model)\n",
    "        sense_euristics = get_sense_euristic(memes_df, j, text, words_dict)\n",
    "        euristics = np.array([emotion_euristics, sense_euristics])\n",
    "        proba = regressions[j].predict_proba(euristics.T.reshape(1, 2))[0, 1]\n",
    "        proba_array[j] = proba\n",
    "    \n",
    "    indexes = np.argsort(-proba_array)\n",
    "    return memes_df.loc[indexes[1: 4]][\"name\"].values"
   ]
  },
  {
   "cell_type": "code",
   "execution_count": 41,
   "metadata": {},
   "outputs": [
    {
     "name": "stdout",
     "output_type": "stream",
     "text": [
      "Text emotion model is loaded\n",
      "Words are parsed\n",
      "['advice-hitler' 'pleaseguy' 'thats-a-paddlin']\n"
     ]
    }
   ],
   "source": [
    "text = \"Oh, You're a film Major? i'll have a grande caramel macchiato, please\"\n",
    "regressions, words_dict, text_emotion_model = load_memes_model()\n",
    "result = predict_memes(text, text_emotion_model, words_dict, regressions)\n",
    "print(result)"
   ]
  },
  {
   "cell_type": "code",
   "execution_count": null,
   "metadata": {},
   "outputs": [],
   "source": []
  }
 ],
 "metadata": {
  "kernelspec": {
   "display_name": "Python 3",
   "language": "python",
   "name": "python3"
  },
  "language_info": {
   "codemirror_mode": {
    "name": "ipython",
    "version": 3
   },
   "file_extension": ".py",
   "mimetype": "text/x-python",
   "name": "python",
   "nbconvert_exporter": "python",
   "pygments_lexer": "ipython3",
   "version": "3.6.5"
  }
 },
 "nbformat": 4,
 "nbformat_minor": 2
}
